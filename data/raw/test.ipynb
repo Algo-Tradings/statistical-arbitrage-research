{
 "cells": [
  {
   "cell_type": "code",
   "execution_count": 1,
   "metadata": {
    "collapsed": true,
    "ExecuteTime": {
     "end_time": "2023-08-22T18:57:01.387492800Z",
     "start_time": "2023-08-22T18:57:00.938959800Z"
    }
   },
   "outputs": [
    {
     "data": {
      "text/plain": "             open   high    low  close        volume\ntime                                                \n2021-08-20  7.151  7.420  7.024  7.276  1.242758e+07\n2021-08-21  7.277  7.683  7.120  7.264  1.670566e+07\n2021-08-22  7.265  7.535  7.047  7.341  1.225782e+07\n2021-08-23  7.342  7.923  7.302  7.829  1.770770e+07\n2021-08-24  7.828  8.149  6.900  7.057  2.424290e+07\n...           ...    ...    ...    ...           ...\n2023-08-15  0.722  0.735  0.716  0.733  1.484001e+06\n2023-08-16  0.722  0.735  0.716  0.733  1.484001e+06\n2023-08-17  0.722  0.735  0.716  0.733  1.484001e+06\n2023-08-18  0.722  0.735  0.716  0.733  1.484001e+06\n2023-08-19  0.722  0.735  0.716  0.733  1.484001e+06\n\n[730 rows x 5 columns]",
      "text/html": "<div>\n<style scoped>\n    .dataframe tbody tr th:only-of-type {\n        vertical-align: middle;\n    }\n\n    .dataframe tbody tr th {\n        vertical-align: top;\n    }\n\n    .dataframe thead th {\n        text-align: right;\n    }\n</style>\n<table border=\"1\" class=\"dataframe\">\n  <thead>\n    <tr style=\"text-align: right;\">\n      <th></th>\n      <th>open</th>\n      <th>high</th>\n      <th>low</th>\n      <th>close</th>\n      <th>volume</th>\n    </tr>\n    <tr>\n      <th>time</th>\n      <th></th>\n      <th></th>\n      <th></th>\n      <th></th>\n      <th></th>\n    </tr>\n  </thead>\n  <tbody>\n    <tr>\n      <th>2021-08-20</th>\n      <td>7.151</td>\n      <td>7.420</td>\n      <td>7.024</td>\n      <td>7.276</td>\n      <td>1.242758e+07</td>\n    </tr>\n    <tr>\n      <th>2021-08-21</th>\n      <td>7.277</td>\n      <td>7.683</td>\n      <td>7.120</td>\n      <td>7.264</td>\n      <td>1.670566e+07</td>\n    </tr>\n    <tr>\n      <th>2021-08-22</th>\n      <td>7.265</td>\n      <td>7.535</td>\n      <td>7.047</td>\n      <td>7.341</td>\n      <td>1.225782e+07</td>\n    </tr>\n    <tr>\n      <th>2021-08-23</th>\n      <td>7.342</td>\n      <td>7.923</td>\n      <td>7.302</td>\n      <td>7.829</td>\n      <td>1.770770e+07</td>\n    </tr>\n    <tr>\n      <th>2021-08-24</th>\n      <td>7.828</td>\n      <td>8.149</td>\n      <td>6.900</td>\n      <td>7.057</td>\n      <td>2.424290e+07</td>\n    </tr>\n    <tr>\n      <th>...</th>\n      <td>...</td>\n      <td>...</td>\n      <td>...</td>\n      <td>...</td>\n      <td>...</td>\n    </tr>\n    <tr>\n      <th>2023-08-15</th>\n      <td>0.722</td>\n      <td>0.735</td>\n      <td>0.716</td>\n      <td>0.733</td>\n      <td>1.484001e+06</td>\n    </tr>\n    <tr>\n      <th>2023-08-16</th>\n      <td>0.722</td>\n      <td>0.735</td>\n      <td>0.716</td>\n      <td>0.733</td>\n      <td>1.484001e+06</td>\n    </tr>\n    <tr>\n      <th>2023-08-17</th>\n      <td>0.722</td>\n      <td>0.735</td>\n      <td>0.716</td>\n      <td>0.733</td>\n      <td>1.484001e+06</td>\n    </tr>\n    <tr>\n      <th>2023-08-18</th>\n      <td>0.722</td>\n      <td>0.735</td>\n      <td>0.716</td>\n      <td>0.733</td>\n      <td>1.484001e+06</td>\n    </tr>\n    <tr>\n      <th>2023-08-19</th>\n      <td>0.722</td>\n      <td>0.735</td>\n      <td>0.716</td>\n      <td>0.733</td>\n      <td>1.484001e+06</td>\n    </tr>\n  </tbody>\n</table>\n<p>730 rows × 5 columns</p>\n</div>"
     },
     "execution_count": 1,
     "metadata": {},
     "output_type": "execute_result"
    }
   ],
   "source": [
    "import pandas as pd\n",
    "\n",
    "prices = pd.read_csv('./historical_data-backup.csv', header=[0, 1], index_col=0)\n",
    "prices['THETA/USDT']"
   ]
  }
 ],
 "metadata": {
  "kernelspec": {
   "display_name": "Python 3",
   "language": "python",
   "name": "python3"
  },
  "language_info": {
   "codemirror_mode": {
    "name": "ipython",
    "version": 2
   },
   "file_extension": ".py",
   "mimetype": "text/x-python",
   "name": "python",
   "nbconvert_exporter": "python",
   "pygments_lexer": "ipython2",
   "version": "2.7.6"
  }
 },
 "nbformat": 4,
 "nbformat_minor": 0
}
